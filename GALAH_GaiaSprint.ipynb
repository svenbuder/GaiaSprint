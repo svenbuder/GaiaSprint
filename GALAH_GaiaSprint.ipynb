{
 "cells": [
  {
   "cell_type": "code",
   "execution_count": null,
   "metadata": {
    "collapsed": false,
    "scrolled": false
   },
   "outputs": [],
   "source": [
    "##############################################################\n",
    "# Download/Load GALAH fits to use during Gaia Sprint 10/2016 #\n",
    "##############################################################\n",
    "\n",
    "import sys\n",
    "import os\n",
    "import subprocess\n",
    "import astropy.io.fits as pyfits\n",
    "import time\n",
    "\n",
    "localFilePath = '/Users/buder/GaiaSprint'\n",
    "fname = 'GALAH_GaiaSprint_161016.fits'\n",
    "if not os.path.exists(localFilePath):\n",
    "    try:\n",
    "        os.makedirs(os.path.dirname(localFilePath))\n",
    "    except:\n",
    "        print 'Could not create Directory!'\n",
    "        return\n",
    "\n",
    "if not os.path.isfile(localFilePath + '/' + fname):\n",
    "    print 'File does not exist, thus downloading it'\n",
    "    downloadPath = 'http://www.mpia.de/~buder/GALAH/' + fname\n",
    "    cmd = \"wget {0} -o {1} --read-timeout=10 --tries=3\".format(downloadPath, localFilePath)\n",
    "    print(cmd)\n",
    "    retcode = os.system(cmd)\n",
    "    if retcode > 0:\n",
    "        cmd = 'curl -o {0}/{2} \"{1}\"'.format(localFilePath, downloadPath, fname)\n",
    "        print(cmd)\n",
    "        subprocess.check_output(cmd, shell=True)\n",
    "        \n",
    "galah=pyfits.getdata(localFilePath  + '/GALAH_GaiaSprint_161016.fits')\n",
    "\n",
    "print galah.dtype.names"
   ]
  }
 ],
 "metadata": {
  "anaconda-cloud": {},
  "kernelspec": {
   "display_name": "Python [default]",
   "language": "python",
   "name": "python2"
  },
  "language_info": {
   "codemirror_mode": {
    "name": "ipython",
    "version": 2
   },
   "file_extension": ".py",
   "mimetype": "text/x-python",
   "name": "python",
   "nbconvert_exporter": "python",
   "pygments_lexer": "ipython2",
   "version": "2.7.12"
  }
 },
 "nbformat": 4,
 "nbformat_minor": 1
}
